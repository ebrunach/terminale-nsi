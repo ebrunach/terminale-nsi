{
 "cells": [
  {
   "cell_type": "code",
   "execution_count": 25,
   "metadata": {},
   "outputs": [
    {
     "name": "stdout",
     "output_type": "stream",
     "text": [
      "3\n",
      "3\n"
     ]
    }
   ],
   "source": [
    "def sous_listes(lst, pivot):\n",
    "    lst_g, lst_m, lst_d = [], [], []\n",
    "    for elem in lst:\n",
    "        if elem < pivot:\n",
    "            lst_g.append(elem)\n",
    "        elif elem == pivot:\n",
    "            lst_m.append(elem)\n",
    "        else:\n",
    "            lst_d.append(elem)\n",
    "    return lst_g, lst_m, lst_d\n",
    "\n",
    "def rang(lst, k):\n",
    "    pivot = lst[0]\n",
    "    lst_g, lst_m, lst_d = sous_listes(lst, pivot)\n",
    "    len_g, len_m, len_d = len(lst_g), len(lst_m), len(lst_d)\n",
    "    if k <= len_g:\n",
    "        return rang(lst_g, k)\n",
    "    elif k <= len_m + len_g:\n",
    "        return pivot\n",
    "    else:\n",
    "        return rang(lst_d, k - len_m - len_g)\n",
    "\n",
    "lst =  [2, 2, 1, 5, 6, 7, 8, 2, 3, 1, 1, 2, 4, 5, 6, 2, 3, 4, 4, 6, 7, 9, 0, 1, 1]\n",
    "print(rang(lst, (len(lst) + 1)//2))\n",
    "\n",
    "import statistics\n",
    "# Calculate middle values\n",
    "print(statistics.median(lst))"
   ]
  },
  {
   "cell_type": "code",
   "execution_count": 69,
   "metadata": {},
   "outputs": [
    {
     "name": "stdout",
     "output_type": "stream",
     "text": [
      "0.762163421997684\n",
      "12.435185132999322\n"
     ]
    }
   ],
   "source": [
    "import timeit\n",
    "from random import randint, seed\n",
    "\n",
    "lst = [randint(-100, 100) for i in range(1000)]\n",
    "l = (len(lst) + 1)//2\n",
    "lst_trie = sorted(lst)\n",
    "\n",
    "def affiche_temps():\n",
    "    print(timeit.timeit(\"rang(lst, l)\", number=1000, globals=globals()))\n",
    "    print(timeit.timeit(\"rang(lst_trie, l)\", number=1000, globals=globals()))\n",
    "\n",
    "affiche_temps()\n"
   ]
  },
  {
   "cell_type": "code",
   "execution_count": null,
   "metadata": {},
   "outputs": [],
   "source": []
  }
 ],
 "metadata": {
  "kernelspec": {
   "display_name": "Python 3",
   "language": "python",
   "name": "python3"
  },
  "language_info": {
   "codemirror_mode": {
    "name": "ipython",
    "version": 3
   },
   "file_extension": ".py",
   "mimetype": "text/x-python",
   "name": "python",
   "nbconvert_exporter": "python",
   "pygments_lexer": "ipython3",
   "version": "3.11.4"
  }
 },
 "nbformat": 4,
 "nbformat_minor": 2
}
