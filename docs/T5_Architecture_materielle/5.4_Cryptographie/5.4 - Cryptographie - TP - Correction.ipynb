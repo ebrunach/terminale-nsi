{
 "cells": [
  {
   "cell_type": "code",
   "execution_count": 1,
   "metadata": {},
   "outputs": [
    {
     "data": {
      "text/plain": [
       "(347, 527)"
      ]
     },
     "execution_count": 1,
     "metadata": {},
     "output_type": "execute_result"
    }
   ],
   "source": [
    "from sympy import *\n",
    "from random import *\n",
    "def creation_cle_publique(p, q):\n",
    "    assert isprime(p) and isprime(q)\n",
    "    n = p * q\n",
    "    phi = (p - 1) * (q - 1)\n",
    "    e = randint(2, phi - 1)\n",
    "    while gcd(e, phi) != 1:\n",
    "        e = randint(2, phi - 1)\n",
    "    return e, n\n",
    "\n",
    "creation_cle_publique(31, 17)"
   ]
  },
  {
   "cell_type": "code",
   "execution_count": 2,
   "metadata": {},
   "outputs": [
    {
     "data": {
      "text/plain": [
       "(83, 527)"
      ]
     },
     "execution_count": 2,
     "metadata": {},
     "output_type": "execute_result"
    }
   ],
   "source": [
    "def creation_cle_privee(p, q, e):\n",
    "    assert isprime(p) and isprime(q)\n",
    "    n = p * q\n",
    "    d = pow(e, -1, (p - 1) * (q - 1))\n",
    "    return d, n\n",
    "\n",
    "creation_cle_privee(31, 17, 347)"
   ]
  },
  {
   "cell_type": "code",
   "execution_count": 3,
   "metadata": {},
   "outputs": [
    {
     "data": {
      "text/plain": [
       "425"
      ]
     },
     "execution_count": 3,
     "metadata": {},
     "output_type": "execute_result"
    }
   ],
   "source": [
    "def chiffrer_RSA(msg, cle):\n",
    "    assert 0 <= msg <= cle[1], \"Message trop grand\"\n",
    "    return msg ** cle[0] % cle[1]\n",
    "\n",
    "def dechiffrer_RSA(msg, cle):\n",
    "    return chiffrer_RSA(msg, cle)\n",
    "\n",
    "chiffrer_RSA(34, (347, 527))"
   ]
  },
  {
   "cell_type": "code",
   "execution_count": 4,
   "metadata": {},
   "outputs": [
    {
     "data": {
      "text/plain": [
       "34"
      ]
     },
     "execution_count": 4,
     "metadata": {},
     "output_type": "execute_result"
    }
   ],
   "source": [
    "dechiffrer_RSA(425, (83, 527))"
   ]
  },
  {
   "cell_type": "code",
   "execution_count": 22,
   "metadata": {},
   "outputs": [],
   "source": [
    "class Personne:\n",
    "    def __init__(self):\n",
    "        p = randint(300, 3000)\n",
    "        while not isprime(p):\n",
    "            p = randint(300, 3000)\n",
    "        q = randint(300, 3000)\n",
    "        while not isprime(q):\n",
    "            q = randint(300, 3000)   \n",
    "        self.cle_publique = creation_cle_publique(p, q)\n",
    "        self.cle_privee = creation_cle_privee(p, q, self.cle_publique[0])\n",
    "\n",
    "    def get_cle_publique(self):\n",
    "        return self.cle_publique\n",
    "    \n",
    "    def envoyer_message(self, message, destinataire):\n",
    "        return chiffrer_RSA(chiffrer_RSA(message, self.cle_privee), destinataire.get_cle_publique())\n",
    "    \n",
    "    def recevoir_message(self, message, origine):\n",
    "        return dechiffrer_RSA(dechiffrer_RSA(message, self.cle_privee), origine.get_cle_publique())\n",
    "    "
   ]
  },
  {
   "cell_type": "code",
   "execution_count": 23,
   "metadata": {},
   "outputs": [],
   "source": [
    "Alice = Personne()"
   ]
  },
  {
   "cell_type": "code",
   "execution_count": 24,
   "metadata": {},
   "outputs": [],
   "source": [
    "Bob = Personne()"
   ]
  },
  {
   "cell_type": "code",
   "execution_count": 25,
   "metadata": {},
   "outputs": [
    {
     "name": "stdout",
     "output_type": "stream",
     "text": [
      "124\n"
     ]
    }
   ],
   "source": [
    "msg_chiffre = Alice.envoyer_message(124, Bob)\n",
    "msg_dechiffre = Bob.recevoir_message(msg_chiffre, Alice)\n",
    "print(msg_dechiffre)"
   ]
  },
  {
   "cell_type": "code",
   "execution_count": 30,
   "metadata": {},
   "outputs": [
    {
     "data": {
      "text/latex": [
       "$\\displaystyle 421$"
      ],
      "text/plain": [
       "421"
      ]
     },
     "execution_count": 30,
     "metadata": {},
     "output_type": "execute_result"
    }
   ],
   "source": [
    "n = 172189\n",
    "B = 8\n",
    "l = [i for i in range(1, B)]\n",
    "M = 1\n",
    "for nb in l:\n",
    "    M *= nb\n",
    "a = 2\n",
    "g = gcd(a ** (M) - 1, n)\n",
    "g"
   ]
  },
  {
   "cell_type": "code",
   "execution_count": null,
   "metadata": {},
   "outputs": [],
   "source": []
  }
 ],
 "metadata": {
  "kernelspec": {
   "display_name": "Python 3",
   "language": "python",
   "name": "python3"
  },
  "language_info": {
   "codemirror_mode": {
    "name": "ipython",
    "version": 3
   },
   "file_extension": ".py",
   "mimetype": "text/x-python",
   "name": "python",
   "nbconvert_exporter": "python",
   "pygments_lexer": "ipython3",
   "version": "3.10.6"
  },
  "orig_nbformat": 4
 },
 "nbformat": 4,
 "nbformat_minor": 2
}
